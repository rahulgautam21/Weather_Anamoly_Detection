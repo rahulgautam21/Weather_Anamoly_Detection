{
  "cells": [
    {
      "cell_type": "code",
      "execution_count": null,
      "metadata": {
        "id": "bdxvCeetjjSR"
      },
      "outputs": [],
      "source": [
        "# Load your datasets\n",
        "%matplotlib inline\n",
        "import matplotlib.pyplot as plt\n",
        "import pandas as pd\n",
        "import numpy as np\n",
        "import seaborn as sns\n",
        "import sklearn\n",
        "import json\n",
        "import warnings\n",
        "import os\n",
        "from sklearn.metrics import classification_report\n",
        "from sklearn.preprocessing import StandardScaler,MinMaxScaler\n",
        "warnings.filterwarnings('ignore')"
      ]
    },
    {
      "cell_type": "code",
      "execution_count": null,
      "metadata": {
        "colab": {
          "base_uri": "https://localhost:8080/"
        },
        "id": "Hai_hu3rjtF8",
        "outputId": "d0303008-20b6-4f7c-d432-b4a1cc823135"
      },
      "outputs": [
        {
          "output_type": "stream",
          "name": "stdout",
          "text": [
            "Mounted at /content/drive\n"
          ]
        }
      ],
      "source": [
        "from google.colab import drive\n",
        "drive.mount('/content/drive', force_remount=True)\n",
        "os.chdir(\"/content/drive/MyDrive/\")"
      ]
    },
    {
      "cell_type": "code",
      "execution_count": null,
      "metadata": {
        "id": "Wr_s8ocujjSS"
      },
      "outputs": [],
      "source": [
        "df_train = pd.read_csv(\"/content/drive/MyDrive/project_ALDA/ECONet/train.csv\")\n",
        "df_train = df_train.sample(frac=1)\n",
        "df_test = pd.read_csv(\"/content/drive/MyDrive/project_ALDA/ECONet/test.csv\")"
      ]
    },
    {
      "cell_type": "markdown",
      "source": [
        "# Feature Transformation"
      ],
      "metadata": {
        "id": "Bv4yP0nBCoDZ"
      }
    },
    {
      "cell_type": "code",
      "execution_count": null,
      "metadata": {
        "id": "pLGL7scPcfJN"
      },
      "outputs": [],
      "source": [
        "df_train[\"Ob\"] = pd.to_datetime(df_train[\"Ob\"],format=\"%m/%d/%Y %H:%M\")"
      ]
    },
    {
      "cell_type": "code",
      "execution_count": null,
      "metadata": {
        "id": "ob4p-Dbxcu0s"
      },
      "outputs": [],
      "source": [
        "df_test[\"Ob\"] = pd.to_datetime(df_test[\"Ob\"],format=\"%m/%d/%Y %H:%M\")\n",
        "\n",
        "#Splitting the dataset into Month, Day, Hour and Minute\n",
        "df_train[\"Month\"] = df_train[\"Ob\"].dt.month\n",
        "df_train[\"Day\"] = df_train[\"Ob\"].dt.day\n",
        "df_train[\"Hour\"] = df_train[\"Ob\"].dt.hour\n",
        "df_train[\"Min\"] = df_train[\"Ob\"].dt.minute\n",
        "\n",
        "df_test[\"Month\"] = df_test[\"Ob\"].dt.month\n",
        "df_test[\"Day\"] = df_test[\"Ob\"].dt.day\n",
        "df_test[\"Hour\"] = df_test[\"Ob\"].dt.hour\n",
        "df_test[\"Min\"] = df_test[\"Ob\"].dt.minute"
      ]
    },
    {
      "cell_type": "code",
      "execution_count": null,
      "metadata": {
        "colab": {
          "base_uri": "https://localhost:8080/",
          "height": 467
        },
        "id": "l1xK2ycdd96j",
        "outputId": "dae44f34-292c-4f14-dfe8-beb82fa329c8"
      },
      "outputs": [
        {
          "output_type": "execute_result",
          "data": {
            "text/plain": [
              "        Station                  Ob     value         measure  target  R_flag  \\\n",
              "2397804    FRYI 2021-03-31 10:14:00     0.297              sm   False       0   \n",
              "1349567    CHAP 2021-06-01 21:22:00     0.000            ws06   False       0   \n",
              "4455029    PLYM 2021-01-30 03:52:00    -3.282  blackglobetemp   False       0   \n",
              "5709619    TAYL 2021-02-15 23:34:00     0.595              sm   False       3   \n",
              "941936     BUCK 2021-09-20 08:25:00     0.532              sm   False       0   \n",
              "...         ...                 ...       ...             ...     ...     ...   \n",
              "4074654    NEWL 2021-12-14 13:12:00     0.185              sm   False       0   \n",
              "3109547    LAKE 2021-06-10 16:08:00    27.630              sr   False       3   \n",
              "2857891    JEFF 2021-09-25 11:28:00  1588.000             par   False       4   \n",
              "5790176    UNCA 2021-06-22 16:56:00     0.235              sm   False       0   \n",
              "4267259    PLYM 2021-02-28 04:52:00     0.224              sm   False       0   \n",
              "\n",
              "         I_flag  Z_flag  B_flag  Month  Day  Hour  Min  \n",
              "2397804      -1      -1       1      3   31    10   14  \n",
              "1349567       0       2      -1      6    1    21   22  \n",
              "4455029      -1      -1      -1      1   30     3   52  \n",
              "5709619      -1      -1       0      2   15    23   34  \n",
              "941936       -1      -1       2      9   20     8   25  \n",
              "...         ...     ...     ...    ...  ...   ...  ...  \n",
              "4074654      -1      -1       1     12   14    13   12  \n",
              "3109547       0      -1      -1      6   10    16    8  \n",
              "2857891       0      -1      -1      9   25    11   28  \n",
              "5790176      -1      -1       1      6   22    16   56  \n",
              "4267259      -1      -1       2      2   28     4   52  \n",
              "\n",
              "[6593274 rows x 13 columns]"
            ],
            "text/html": [
              "\n",
              "  <div id=\"df-b5756cce-628c-498b-91d1-fe245f447fe8\">\n",
              "    <div class=\"colab-df-container\">\n",
              "      <div>\n",
              "<style scoped>\n",
              "    .dataframe tbody tr th:only-of-type {\n",
              "        vertical-align: middle;\n",
              "    }\n",
              "\n",
              "    .dataframe tbody tr th {\n",
              "        vertical-align: top;\n",
              "    }\n",
              "\n",
              "    .dataframe thead th {\n",
              "        text-align: right;\n",
              "    }\n",
              "</style>\n",
              "<table border=\"1\" class=\"dataframe\">\n",
              "  <thead>\n",
              "    <tr style=\"text-align: right;\">\n",
              "      <th></th>\n",
              "      <th>Station</th>\n",
              "      <th>Ob</th>\n",
              "      <th>value</th>\n",
              "      <th>measure</th>\n",
              "      <th>target</th>\n",
              "      <th>R_flag</th>\n",
              "      <th>I_flag</th>\n",
              "      <th>Z_flag</th>\n",
              "      <th>B_flag</th>\n",
              "      <th>Month</th>\n",
              "      <th>Day</th>\n",
              "      <th>Hour</th>\n",
              "      <th>Min</th>\n",
              "    </tr>\n",
              "  </thead>\n",
              "  <tbody>\n",
              "    <tr>\n",
              "      <th>2397804</th>\n",
              "      <td>FRYI</td>\n",
              "      <td>2021-03-31 10:14:00</td>\n",
              "      <td>0.297</td>\n",
              "      <td>sm</td>\n",
              "      <td>False</td>\n",
              "      <td>0</td>\n",
              "      <td>-1</td>\n",
              "      <td>-1</td>\n",
              "      <td>1</td>\n",
              "      <td>3</td>\n",
              "      <td>31</td>\n",
              "      <td>10</td>\n",
              "      <td>14</td>\n",
              "    </tr>\n",
              "    <tr>\n",
              "      <th>1349567</th>\n",
              "      <td>CHAP</td>\n",
              "      <td>2021-06-01 21:22:00</td>\n",
              "      <td>0.000</td>\n",
              "      <td>ws06</td>\n",
              "      <td>False</td>\n",
              "      <td>0</td>\n",
              "      <td>0</td>\n",
              "      <td>2</td>\n",
              "      <td>-1</td>\n",
              "      <td>6</td>\n",
              "      <td>1</td>\n",
              "      <td>21</td>\n",
              "      <td>22</td>\n",
              "    </tr>\n",
              "    <tr>\n",
              "      <th>4455029</th>\n",
              "      <td>PLYM</td>\n",
              "      <td>2021-01-30 03:52:00</td>\n",
              "      <td>-3.282</td>\n",
              "      <td>blackglobetemp</td>\n",
              "      <td>False</td>\n",
              "      <td>0</td>\n",
              "      <td>-1</td>\n",
              "      <td>-1</td>\n",
              "      <td>-1</td>\n",
              "      <td>1</td>\n",
              "      <td>30</td>\n",
              "      <td>3</td>\n",
              "      <td>52</td>\n",
              "    </tr>\n",
              "    <tr>\n",
              "      <th>5709619</th>\n",
              "      <td>TAYL</td>\n",
              "      <td>2021-02-15 23:34:00</td>\n",
              "      <td>0.595</td>\n",
              "      <td>sm</td>\n",
              "      <td>False</td>\n",
              "      <td>3</td>\n",
              "      <td>-1</td>\n",
              "      <td>-1</td>\n",
              "      <td>0</td>\n",
              "      <td>2</td>\n",
              "      <td>15</td>\n",
              "      <td>23</td>\n",
              "      <td>34</td>\n",
              "    </tr>\n",
              "    <tr>\n",
              "      <th>941936</th>\n",
              "      <td>BUCK</td>\n",
              "      <td>2021-09-20 08:25:00</td>\n",
              "      <td>0.532</td>\n",
              "      <td>sm</td>\n",
              "      <td>False</td>\n",
              "      <td>0</td>\n",
              "      <td>-1</td>\n",
              "      <td>-1</td>\n",
              "      <td>2</td>\n",
              "      <td>9</td>\n",
              "      <td>20</td>\n",
              "      <td>8</td>\n",
              "      <td>25</td>\n",
              "    </tr>\n",
              "    <tr>\n",
              "      <th>...</th>\n",
              "      <td>...</td>\n",
              "      <td>...</td>\n",
              "      <td>...</td>\n",
              "      <td>...</td>\n",
              "      <td>...</td>\n",
              "      <td>...</td>\n",
              "      <td>...</td>\n",
              "      <td>...</td>\n",
              "      <td>...</td>\n",
              "      <td>...</td>\n",
              "      <td>...</td>\n",
              "      <td>...</td>\n",
              "      <td>...</td>\n",
              "    </tr>\n",
              "    <tr>\n",
              "      <th>4074654</th>\n",
              "      <td>NEWL</td>\n",
              "      <td>2021-12-14 13:12:00</td>\n",
              "      <td>0.185</td>\n",
              "      <td>sm</td>\n",
              "      <td>False</td>\n",
              "      <td>0</td>\n",
              "      <td>-1</td>\n",
              "      <td>-1</td>\n",
              "      <td>1</td>\n",
              "      <td>12</td>\n",
              "      <td>14</td>\n",
              "      <td>13</td>\n",
              "      <td>12</td>\n",
              "    </tr>\n",
              "    <tr>\n",
              "      <th>3109547</th>\n",
              "      <td>LAKE</td>\n",
              "      <td>2021-06-10 16:08:00</td>\n",
              "      <td>27.630</td>\n",
              "      <td>sr</td>\n",
              "      <td>False</td>\n",
              "      <td>3</td>\n",
              "      <td>0</td>\n",
              "      <td>-1</td>\n",
              "      <td>-1</td>\n",
              "      <td>6</td>\n",
              "      <td>10</td>\n",
              "      <td>16</td>\n",
              "      <td>8</td>\n",
              "    </tr>\n",
              "    <tr>\n",
              "      <th>2857891</th>\n",
              "      <td>JEFF</td>\n",
              "      <td>2021-09-25 11:28:00</td>\n",
              "      <td>1588.000</td>\n",
              "      <td>par</td>\n",
              "      <td>False</td>\n",
              "      <td>4</td>\n",
              "      <td>0</td>\n",
              "      <td>-1</td>\n",
              "      <td>-1</td>\n",
              "      <td>9</td>\n",
              "      <td>25</td>\n",
              "      <td>11</td>\n",
              "      <td>28</td>\n",
              "    </tr>\n",
              "    <tr>\n",
              "      <th>5790176</th>\n",
              "      <td>UNCA</td>\n",
              "      <td>2021-06-22 16:56:00</td>\n",
              "      <td>0.235</td>\n",
              "      <td>sm</td>\n",
              "      <td>False</td>\n",
              "      <td>0</td>\n",
              "      <td>-1</td>\n",
              "      <td>-1</td>\n",
              "      <td>1</td>\n",
              "      <td>6</td>\n",
              "      <td>22</td>\n",
              "      <td>16</td>\n",
              "      <td>56</td>\n",
              "    </tr>\n",
              "    <tr>\n",
              "      <th>4267259</th>\n",
              "      <td>PLYM</td>\n",
              "      <td>2021-02-28 04:52:00</td>\n",
              "      <td>0.224</td>\n",
              "      <td>sm</td>\n",
              "      <td>False</td>\n",
              "      <td>0</td>\n",
              "      <td>-1</td>\n",
              "      <td>-1</td>\n",
              "      <td>2</td>\n",
              "      <td>2</td>\n",
              "      <td>28</td>\n",
              "      <td>4</td>\n",
              "      <td>52</td>\n",
              "    </tr>\n",
              "  </tbody>\n",
              "</table>\n",
              "<p>6593274 rows × 13 columns</p>\n",
              "</div>\n",
              "      <button class=\"colab-df-convert\" onclick=\"convertToInteractive('df-b5756cce-628c-498b-91d1-fe245f447fe8')\"\n",
              "              title=\"Convert this dataframe to an interactive table.\"\n",
              "              style=\"display:none;\">\n",
              "        \n",
              "  <svg xmlns=\"http://www.w3.org/2000/svg\" height=\"24px\"viewBox=\"0 0 24 24\"\n",
              "       width=\"24px\">\n",
              "    <path d=\"M0 0h24v24H0V0z\" fill=\"none\"/>\n",
              "    <path d=\"M18.56 5.44l.94 2.06.94-2.06 2.06-.94-2.06-.94-.94-2.06-.94 2.06-2.06.94zm-11 1L8.5 8.5l.94-2.06 2.06-.94-2.06-.94L8.5 2.5l-.94 2.06-2.06.94zm10 10l.94 2.06.94-2.06 2.06-.94-2.06-.94-.94-2.06-.94 2.06-2.06.94z\"/><path d=\"M17.41 7.96l-1.37-1.37c-.4-.4-.92-.59-1.43-.59-.52 0-1.04.2-1.43.59L10.3 9.45l-7.72 7.72c-.78.78-.78 2.05 0 2.83L4 21.41c.39.39.9.59 1.41.59.51 0 1.02-.2 1.41-.59l7.78-7.78 2.81-2.81c.8-.78.8-2.07 0-2.86zM5.41 20L4 18.59l7.72-7.72 1.47 1.35L5.41 20z\"/>\n",
              "  </svg>\n",
              "      </button>\n",
              "      \n",
              "  <style>\n",
              "    .colab-df-container {\n",
              "      display:flex;\n",
              "      flex-wrap:wrap;\n",
              "      gap: 12px;\n",
              "    }\n",
              "\n",
              "    .colab-df-convert {\n",
              "      background-color: #E8F0FE;\n",
              "      border: none;\n",
              "      border-radius: 50%;\n",
              "      cursor: pointer;\n",
              "      display: none;\n",
              "      fill: #1967D2;\n",
              "      height: 32px;\n",
              "      padding: 0 0 0 0;\n",
              "      width: 32px;\n",
              "    }\n",
              "\n",
              "    .colab-df-convert:hover {\n",
              "      background-color: #E2EBFA;\n",
              "      box-shadow: 0px 1px 2px rgba(60, 64, 67, 0.3), 0px 1px 3px 1px rgba(60, 64, 67, 0.15);\n",
              "      fill: #174EA6;\n",
              "    }\n",
              "\n",
              "    [theme=dark] .colab-df-convert {\n",
              "      background-color: #3B4455;\n",
              "      fill: #D2E3FC;\n",
              "    }\n",
              "\n",
              "    [theme=dark] .colab-df-convert:hover {\n",
              "      background-color: #434B5C;\n",
              "      box-shadow: 0px 1px 3px 1px rgba(0, 0, 0, 0.15);\n",
              "      filter: drop-shadow(0px 1px 2px rgba(0, 0, 0, 0.3));\n",
              "      fill: #FFFFFF;\n",
              "    }\n",
              "  </style>\n",
              "\n",
              "      <script>\n",
              "        const buttonEl =\n",
              "          document.querySelector('#df-b5756cce-628c-498b-91d1-fe245f447fe8 button.colab-df-convert');\n",
              "        buttonEl.style.display =\n",
              "          google.colab.kernel.accessAllowed ? 'block' : 'none';\n",
              "\n",
              "        async function convertToInteractive(key) {\n",
              "          const element = document.querySelector('#df-b5756cce-628c-498b-91d1-fe245f447fe8');\n",
              "          const dataTable =\n",
              "            await google.colab.kernel.invokeFunction('convertToInteractive',\n",
              "                                                     [key], {});\n",
              "          if (!dataTable) return;\n",
              "\n",
              "          const docLinkHtml = 'Like what you see? Visit the ' +\n",
              "            '<a target=\"_blank\" href=https://colab.research.google.com/notebooks/data_table.ipynb>data table notebook</a>'\n",
              "            + ' to learn more about interactive tables.';\n",
              "          element.innerHTML = '';\n",
              "          dataTable['output_type'] = 'display_data';\n",
              "          await google.colab.output.renderOutput(dataTable, element);\n",
              "          const docLink = document.createElement('div');\n",
              "          docLink.innerHTML = docLinkHtml;\n",
              "          element.appendChild(docLink);\n",
              "        }\n",
              "      </script>\n",
              "    </div>\n",
              "  </div>\n",
              "  "
            ]
          },
          "metadata": {},
          "execution_count": 6
        }
      ],
      "source": [
        "df_train"
      ]
    },
    {
      "cell_type": "markdown",
      "source": [
        "# Splitting the dataset"
      ],
      "metadata": {
        "id": "GiXOVOC8CsFf"
      }
    },
    {
      "cell_type": "code",
      "execution_count": null,
      "metadata": {
        "colab": {
          "base_uri": "https://localhost:8080/"
        },
        "id": "sxJRDH3hBNV5",
        "outputId": "30590d74-5f15-429b-cc93-ee5db8afb22c"
      },
      "outputs": [
        {
          "output_type": "stream",
          "name": "stdout",
          "text": [
            "5274619 5274619\n"
          ]
        }
      ],
      "source": [
        "from sklearn.model_selection import train_test_split\n",
        "from sklearn import metrics\n",
        "import numpy as np\n",
        "x_train = df_train[['value', 'R_flag', 'I_flag', 'Z_flag', 'B_flag','measure','Station','Month','Day','Hour','Min','target']]\n",
        "y_train = df_train[\"target\"]\n",
        "x_train,x_val,y_train,y_val=train_test_split(x_train, y_train, test_size=0.2,random_state=1)\n",
        "print(len(x_train), len(y_train))\n"
      ]
    },
    {
      "cell_type": "code",
      "execution_count": null,
      "metadata": {
        "id": "slrmu7iYo2lb"
      },
      "outputs": [],
      "source": [
        "#Normalization of training set\n",
        "\n",
        "# allScalers = {}\n",
        "# dataframeslst = []\n",
        "# for station in stations:\n",
        "#   for measure in allMeasures:\n",
        "#     filtered_df = x_train[(x_train.measure == measure) & (x_train.Station == station)]\n",
        "#     # print(station + ' ' + measure + ' - ',filtered_df.size)\n",
        "#     if filtered_df.size == 0:\n",
        "#       continue\n",
        "#     scaler = MinMaxScaler()\n",
        "#     filtered_df.value = scaler.fit_transform(filtered_df[['value']])\n",
        "#     dataframeslst.append(filtered_df)\n",
        "#     allScalers[station+'-'+measure] = scaler"
      ]
    },
    {
      "cell_type": "code",
      "execution_count": null,
      "metadata": {
        "id": "3EGV0Ai-lZ4Z"
      },
      "outputs": [],
      "source": [
        "#Normalization of testing set\n",
        "\n",
        "# dataframeslst_val = []\n",
        "# for station in stations:\n",
        "#   for measure in allMeasures:\n",
        "#     filtered_df_val = x_val[(x_val.measure == measure) & (x_val.Station == station)]\n",
        "#     # print(station + ' ' + measure + ' - ',filtered_df.size)\n",
        "#     if filtered_df_val.size == 0 :\n",
        "#       continue\n",
        "#     if(str(station+'-'+measure) not in allScalers):\n",
        "#       print(str(station+'-'+measure))\n",
        "#       print(len(filtered_df_val))\n",
        "#       dataframeslst_val.append(filtered_df_val)\n",
        "#       continue;\n",
        "#     scaler = allScalers[station+'-'+measure]\n",
        "#     filtered_df_val.value = scaler.transform(filtered_df_val[['value']])\n",
        "#     dataframeslst_val.append(filtered_df_val)\n"
      ]
    },
    {
      "cell_type": "code",
      "execution_count": null,
      "metadata": {
        "id": "jTl_Ocv5au-X"
      },
      "outputs": [],
      "source": [
        "# # Try to ignore normalization\n",
        "df_train_scaled = x_train\n",
        "df_val_scaled = x_val"
      ]
    },
    {
      "cell_type": "markdown",
      "source": [
        "# One hot encoding"
      ],
      "metadata": {
        "id": "aNFiw9w-CwOE"
      }
    },
    {
      "cell_type": "code",
      "execution_count": null,
      "metadata": {
        "id": "1j9vQ03z8c3M"
      },
      "outputs": [],
      "source": [
        "#Transforming the One hot encoding on station and measure attributes\n",
        "\n",
        "one_hot_station = pd.get_dummies(df_train_scaled['Station'])\n",
        "one_hot_measure = pd.get_dummies(df_train_scaled['measure'])\n",
        "\n",
        "df_train_processed = df_train_scaled.join(one_hot_station)\n",
        "df_train_processed = df_train_processed.join(one_hot_measure)\n",
        "\n",
        "one_hot_station = pd.get_dummies(df_val_scaled['Station'])\n",
        "one_hot_measure = pd.get_dummies(df_val_scaled['measure'])\n",
        "\n",
        "df_val_processed = df_val_scaled.join(one_hot_station)\n",
        "df_val_processed = df_val_processed.join(one_hot_measure)"
      ]
    },
    {
      "cell_type": "markdown",
      "source": [
        "# Sampling"
      ],
      "metadata": {
        "id": "XhhMj6qTCzV7"
      }
    },
    {
      "cell_type": "code",
      "execution_count": null,
      "metadata": {
        "colab": {
          "base_uri": "https://localhost:8080/"
        },
        "id": "hxKTAI1WI6kU",
        "outputId": "41a8bb0e-f825-4e5d-ea72-346a5d102cbc"
      },
      "outputs": [
        {
          "output_type": "stream",
          "name": "stdout",
          "text": [
            "Counter({False: 5086350, True: 188269})\n",
            "5274619 5274619\n",
            "Counter({False: 5086350, True: 188269})\n"
          ]
        }
      ],
      "source": [
        "# Here we have used multiple techniques like \n",
        "# SMOTE\n",
        "# SMOTEENN\n",
        "# SMOTETomek\n",
        "# RandomUnderSampler\n",
        "# CondensedNearestNeighbour\n",
        "# OneSidedSelection\n",
        "\n",
        "#But the best AUC-PR result came out when no sampling is provided\n",
        "\n",
        "from imblearn.over_sampling import SMOTE \n",
        "from imblearn.combine import SMOTEENN, SMOTETomek\n",
        "from collections import Counter\n",
        "from imblearn.under_sampling import RandomUnderSampler, NeighbourhoodCleaningRule\n",
        "from imblearn.under_sampling import OneSidedSelection\n",
        "print(Counter(y_train))\n",
        "\n",
        "df_train_final = df_train_processed.drop(['Station','measure','target'],axis = 1)\n",
        "# df_train_final = df_train_scaled[['value', 'R_flag', 'I_flag', 'Z_flag', 'B_flag']]\n",
        "# sm = SMOTE(random_state=1)\n",
        "# x_train_sm, y_train_sm = sm.fit_resample(df_train_final, y_train)\n",
        "# smt = SMOTETomek(random_state=42)\n",
        "# x_train_sm, y_train_sm = smt.fit_resample(df_train_final, y_train)\n",
        "\n",
        "# ncr = NeighbourhoodCleaningRule(random_state=42) \n",
        "# x_train_sm, y_train_sm = ncr.fit_resample(df_train_final, y_train) \n",
        "\n",
        "\n",
        "# rus = RandomUnderSampler(random_state=42, sampling_strategy = 0.5)\n",
        "# x_train_sm, y_train_sm = rus.fit_resample(df_train_final, y_train)\n",
        "\n",
        "\n",
        "x_train_sm = df_train_final\n",
        "y_train_sm = y_train\n",
        "\n",
        "\n",
        "# print(Counter(y_train_sm))\n",
        "\n",
        "# oss = OneSidedSelection(random_state=42)\n",
        "# x_train_sm, y_train_sm = oss.fit_resample(x_train_sm, y_train_sm)\n",
        "\n",
        "print(len(x_train_sm), len(y_train_sm))\n",
        "\n",
        "print(Counter(y_train_sm))"
      ]
    },
    {
      "cell_type": "code",
      "execution_count": null,
      "metadata": {
        "colab": {
          "base_uri": "https://localhost:8080/"
        },
        "id": "e3_nxKgBOIcx",
        "outputId": "2217162a-66ee-4aff-d4e3-eda4ee23c1c1"
      },
      "outputs": [
        {
          "output_type": "stream",
          "name": "stdout",
          "text": [
            "5274619\n",
            "5274619\n",
            "1318655\n",
            "1318655\n"
          ]
        }
      ],
      "source": [
        "df_val_final = df_val_processed.drop(['Station','measure','target'],axis = 1)\n",
        "print(len(x_train_sm))\n",
        "print(len(y_train_sm))\n",
        "print(len(df_val_final))\n",
        "print(len(y_val))"
      ]
    },
    {
      "cell_type": "code",
      "execution_count": null,
      "metadata": {
        "id": "ysLZPJ2oT9ee"
      },
      "outputs": [],
      "source": [
        "x_train_sm, df_val_final = x_train_sm.align(df_val_final, join='inner', axis=1)  # inner join"
      ]
    },
    {
      "cell_type": "markdown",
      "metadata": {
        "id": "CPLN2BkvqG78"
      },
      "source": [
        "# Random Forest (10-100)"
      ]
    },
    {
      "cell_type": "code",
      "execution_count": null,
      "metadata": {
        "colab": {
          "base_uri": "https://localhost:8080/"
        },
        "id": "qRwqLKHDI9Gq",
        "outputId": "8a055043-740a-4082-d798-437703331c5d"
      },
      "outputs": [
        {
          "output_type": "stream",
          "name": "stdout",
          "text": [
            "Value of i 10\n",
            "F1 Score: 0.9946021118609605\n",
            "Accuracy Score: 0.9992613685914815\n",
            "Precision score:  0.9979885171832589\n",
            "Recall score:  0.9912650443761564\n",
            "Accuracy Score: 0.9992613685914815\n",
            "Confusion Matrix: [[1271399     157]\n",
            " [    817   46282]]\n",
            "              precision    recall  f1-score   support\n",
            "\n",
            "       False       1.00      1.00      1.00   1271556\n",
            "        True       1.00      0.98      0.99     47099\n",
            "\n",
            "    accuracy                           1.00   1318655\n",
            "   macro avg       1.00      0.99      0.99   1318655\n",
            "weighted avg       1.00      1.00      1.00   1318655\n",
            "\n",
            "------------------------------------------------------------------------\n",
            "Value of i 30\n",
            "F1 Score: 0.9952953245129154\n",
            "Accuracy Score: 0.9993554038016009\n",
            "Precision score:  0.9980417261037201\n",
            "Recall score:  0.9925814205200235\n",
            "Accuracy Score: 0.9993554038016009\n",
            "Confusion Matrix: [[1271399     157]\n",
            " [    693   46406]]\n",
            "              precision    recall  f1-score   support\n",
            "\n",
            "       False       1.00      1.00      1.00   1271556\n",
            "        True       1.00      0.99      0.99     47099\n",
            "\n",
            "    accuracy                           1.00   1318655\n",
            "   macro avg       1.00      0.99      1.00   1318655\n",
            "weighted avg       1.00      1.00      1.00   1318655\n",
            "\n",
            "------------------------------------------------------------------------\n",
            "Value of i 50\n",
            "F1 Score: 0.9954671398644326\n",
            "Accuracy Score: 0.9993789126041307\n",
            "Precision score:  0.9981885618624906\n",
            "Recall score:  0.9927776192268343\n",
            "Accuracy Score: 0.9993789126041307\n",
            "Confusion Matrix: [[1271412     144]\n",
            " [    675   46424]]\n",
            "              precision    recall  f1-score   support\n",
            "\n",
            "       False       1.00      1.00      1.00   1271556\n",
            "        True       1.00      0.99      0.99     47099\n",
            "\n",
            "    accuracy                           1.00   1318655\n",
            "   macro avg       1.00      0.99      1.00   1318655\n",
            "weighted avg       1.00      1.00      1.00   1318655\n",
            "\n",
            "------------------------------------------------------------------------\n",
            "Value of i 70\n",
            "F1 Score: 0.9955956591128673\n",
            "Accuracy Score: 0.999396354618911\n",
            "Precision score:  0.998177817201694\n",
            "Recall score:  0.9930422312049031\n",
            "Accuracy Score: 0.999396354618911\n",
            "Confusion Matrix: [[1271410     146]\n",
            " [    650   46449]]\n",
            "              precision    recall  f1-score   support\n",
            "\n",
            "       False       1.00      1.00      1.00   1271556\n",
            "        True       1.00      0.99      0.99     47099\n",
            "\n",
            "    accuracy                           1.00   1318655\n",
            "   macro avg       1.00      0.99      1.00   1318655\n",
            "weighted avg       1.00      1.00      1.00   1318655\n",
            "\n",
            "------------------------------------------------------------------------\n",
            "Value of i 90\n",
            "F1 Score: 0.9957341179604092\n",
            "Accuracy Score: 0.9994153133306286\n",
            "Precision score:  0.9983014511782928\n",
            "Recall score:  0.9931951797271041\n",
            "Accuracy Score: 0.9994153133306286\n",
            "Confusion Matrix: [[1271421     135]\n",
            " [    636   46463]]\n",
            "              precision    recall  f1-score   support\n",
            "\n",
            "       False       1.00      1.00      1.00   1271556\n",
            "        True       1.00      0.99      0.99     47099\n",
            "\n",
            "    accuracy                           1.00   1318655\n",
            "   macro avg       1.00      0.99      1.00   1318655\n",
            "weighted avg       1.00      1.00      1.00   1318655\n",
            "\n",
            "------------------------------------------------------------------------\n"
          ]
        }
      ],
      "source": [
        "from sklearn.ensemble import RandomForestClassifier\n",
        "import pickle\n",
        "from sklearn.metrics import classification_report\n",
        "for i in range(10,101,20):\n",
        "    print(\"Value of i\", i)\n",
        "    random_forst_model = RandomForestClassifier(n_estimators=i, random_state=1)\n",
        "    saved_model_RF = 'random_forest_model_20.sav'\n",
        "    # pickle.dump(random_forst_model, open(saved_model_RF, 'wb'))\n",
        "    random_forst_model.fit(x_train_sm, y_train_sm)\n",
        "    y_pred = random_forst_model.predict(df_val_final)\n",
        "    print('F1 Score:', metrics.f1_score(y_val, y_pred, average='macro'))\n",
        "    print('Accuracy Score:', metrics.accuracy_score(y_val, y_pred))\n",
        "    print('Precision score: ', metrics.precision_score(y_val, y_pred, average='macro'))\n",
        "    print('Recall score: ', metrics.recall_score(y_val, y_pred, average='macro'))\n",
        "    print('Accuracy Score:', metrics.accuracy_score(y_val, y_pred))\n",
        "    print('Confusion Matrix:', metrics.confusion_matrix(y_val, y_pred))\n",
        "    print(classification_report(y_val, y_pred, zero_division = 1))\n",
        "    print(\"------------------------------------------------------------------------\")"
      ]
    },
    {
      "cell_type": "markdown",
      "source": [
        "# Random Forest (100)"
      ],
      "metadata": {
        "id": "lqKemlodSpBA"
      }
    },
    {
      "cell_type": "code",
      "source": [
        "from sklearn.ensemble import RandomForestClassifier\n",
        "import pickle\n",
        "from sklearn.metrics import classification_report\n",
        "random_forst_model = RandomForestClassifier(n_estimators=100, random_state=1)\n",
        "saved_model_RF = 'random_forest_model_20.sav'\n",
        "# pickle.dump(random_forst_model, open(saved_model_RF, 'wb'))\n",
        "random_forst_model.fit(x_train_sm, y_train_sm)\n",
        "y_pred = random_forst_model.predict(df_val_final)\n",
        "print('F1 Score:', metrics.f1_score(y_val, y_pred, average='macro'))\n",
        "print('Accuracy Score:', metrics.accuracy_score(y_val, y_pred))\n",
        "print('Precision score: ', metrics.precision_score(y_val, y_pred, average='macro'))\n",
        "print('Recall score: ', metrics.recall_score(y_val, y_pred, average='macro'))\n",
        "print('Accuracy Score:', metrics.accuracy_score(y_val, y_pred))\n",
        "print('Confusion Matrix:', metrics.confusion_matrix(y_val, y_pred))\n",
        "print(classification_report(y_val, y_pred, zero_division = 1))\n",
        "print(\"------------------------------------------------------------------------\")"
      ],
      "metadata": {
        "colab": {
          "base_uri": "https://localhost:8080/"
        },
        "id": "E31kkPn5Sngo",
        "outputId": "9a0a0fa4-183a-4ee3-b5c9-0e80b444b86b"
      },
      "execution_count": null,
      "outputs": [
        {
          "output_type": "stream",
          "name": "stdout",
          "text": [
            "F1 Score: 0.995768732133641\n",
            "Accuracy Score: 0.9994221384668469\n",
            "Precision score:  0.9981239156426818\n",
            "Recall score:  0.9934374575829741\n",
            "Accuracy Score: 0.9994221384668469\n",
            "Confusion Matrix: [[1271600     152]\n",
            " [    610   46293]]\n",
            "              precision    recall  f1-score   support\n",
            "\n",
            "       False       1.00      1.00      1.00   1271752\n",
            "        True       1.00      0.99      0.99     46903\n",
            "\n",
            "    accuracy                           1.00   1318655\n",
            "   macro avg       1.00      0.99      1.00   1318655\n",
            "weighted avg       1.00      1.00      1.00   1318655\n",
            "\n",
            "------------------------------------------------------------------------\n"
          ]
        }
      ]
    },
    {
      "cell_type": "markdown",
      "source": [
        "# Random Forest (200)"
      ],
      "metadata": {
        "id": "Jgs6X5SbCePh"
      }
    },
    {
      "cell_type": "code",
      "execution_count": null,
      "metadata": {
        "colab": {
          "base_uri": "https://localhost:8080/"
        },
        "id": "E0MD346rc4-V",
        "outputId": "3a539db4-b178-4a1b-99f3-faffba1afad9"
      },
      "outputs": [
        {
          "output_type": "stream",
          "name": "stdout",
          "text": [
            "F1 Score: 0.9956442978590581\n",
            "Accuracy Score: 0.9994046964520666\n",
            "Precision score:  0.998002131968464\n",
            "Recall score:  0.993310433978589\n",
            "Accuracy Score: 0.9994046964520666\n",
            "Confusion Matrix: [[1271552     163]\n",
            " [    622   46318]]\n",
            "              precision    recall  f1-score   support\n",
            "\n",
            "       False       1.00      1.00      1.00   1271715\n",
            "        True       1.00      0.99      0.99     46940\n",
            "\n",
            "    accuracy                           1.00   1318655\n",
            "   macro avg       1.00      0.99      1.00   1318655\n",
            "weighted avg       1.00      1.00      1.00   1318655\n",
            "\n",
            "------------------------------------------------------------------------\n"
          ]
        }
      ],
      "source": [
        "from sklearn.ensemble import RandomForestClassifier\n",
        "import pickle\n",
        "from sklearn.metrics import classification_report\n",
        "random_forst_model = RandomForestClassifier(n_estimators=200, random_state=1)\n",
        "saved_model_RF = 'random_forest_model_20.sav'\n",
        "# pickle.dump(random_forst_model, open(saved_model_RF, 'wb'))\n",
        "random_forst_model.fit(x_train_sm, y_train_sm)\n",
        "y_pred = random_forst_model.predict(df_val_final)\n",
        "print('F1 Score:', metrics.f1_score(y_val, y_pred, average='macro'))\n",
        "print('Accuracy Score:', metrics.accuracy_score(y_val, y_pred))\n",
        "print('Precision score: ', metrics.precision_score(y_val, y_pred, average='macro'))\n",
        "print('Recall score: ', metrics.recall_score(y_val, y_pred, average='macro'))\n",
        "print('Accuracy Score:', metrics.accuracy_score(y_val, y_pred))\n",
        "print('Confusion Matrix:', metrics.confusion_matrix(y_val, y_pred))\n",
        "print(classification_report(y_val, y_pred, zero_division = 1))\n",
        "print(\"------------------------------------------------------------------------\")"
      ]
    },
    {
      "cell_type": "markdown",
      "source": [
        "# Gradient Boosting"
      ],
      "metadata": {
        "id": "jJoQfqHasm4Z"
      }
    },
    {
      "cell_type": "code",
      "source": [
        "from sklearn.ensemble import GradientBoostingClassifier\n",
        "import pickle\n",
        "from sklearn.metrics import classification_report\n",
        "gradient_boosting_model = GradientBoostingClassifier(n_estimators=300, random_state=1, learning_rate=1.0,)\n",
        "# pickle.dump(random_forst_model, open(saved_model_RF, 'wb'))\n",
        "gradient_boosting_model.fit(x_train_sm, y_train_sm)\n",
        "y_pred = gradient_boosting_model.predict(df_val_final)\n",
        "print('F1 Score:', metrics.f1_score(y_val, y_pred, average='macro'))\n",
        "print('Accuracy Score:', metrics.accuracy_score(y_val, y_pred))\n",
        "print('Precision score: ', metrics.precision_score(y_val, y_pred, average='macro'))\n",
        "print('Recall score: ', metrics.recall_score(y_val, y_pred, average='macro'))\n",
        "print('Accuracy Score:', metrics.accuracy_score(y_val, y_pred))\n",
        "print('Confusion Matrix:', metrics.confusion_matrix(y_val, y_pred))\n",
        "print(classification_report(y_val, y_pred, zero_division = 1))\n",
        "print(\"------------------------------------------------------------------------\")"
      ],
      "metadata": {
        "id": "n5TZcln077xJ",
        "colab": {
          "base_uri": "https://localhost:8080/"
        },
        "outputId": "5acf52dd-c01e-4c6d-f408-53f98b684689"
      },
      "execution_count": null,
      "outputs": [
        {
          "output_type": "stream",
          "name": "stdout",
          "text": [
            "F1 Score: 0.9635301658174719\n",
            "Accuracy Score: 0.994645301462475\n",
            "Precision score:  0.9368048104738054\n",
            "Recall score:  0.9940953289290946\n",
            "Accuracy Score: 0.994645301462475\n",
            "Confusion Matrix: [[1264801    6755]\n",
            " [    306   46793]]\n",
            "              precision    recall  f1-score   support\n",
            "\n",
            "       False       1.00      0.99      1.00   1271556\n",
            "        True       0.87      0.99      0.93     47099\n",
            "\n",
            "    accuracy                           0.99   1318655\n",
            "   macro avg       0.94      0.99      0.96   1318655\n",
            "weighted avg       1.00      0.99      0.99   1318655\n",
            "\n",
            "------------------------------------------------------------------------\n"
          ]
        }
      ]
    },
    {
      "cell_type": "markdown",
      "source": [
        "# Balanced Random Forest Classifier"
      ],
      "metadata": {
        "id": "KVHUWsSyssTv"
      }
    },
    {
      "cell_type": "code",
      "source": [
        "from imblearn.ensemble import BalancedRandomForestClassifier\n",
        "import pickle\n",
        "from sklearn.metrics import classification_report\n",
        "BalancedRandomForestClassifier_model = BalancedRandomForestClassifier()\n",
        "# pickle.dump(random_forst_model, open(saved_model_RF, 'wb'))\n",
        "BalancedRandomForestClassifier_model.fit(x_train_sm, y_train_sm)\n",
        "y_pred = BalancedRandomForestClassifier_model.predict(df_val_final)\n",
        "print('F1 Score:', metrics.f1_score(y_val, y_pred, average='macro'))\n",
        "print('Accuracy Score:', metrics.accuracy_score(y_val, y_pred))\n",
        "print('Precision score: ', metrics.precision_score(y_val, y_pred, average='macro'))\n",
        "print('Recall score: ', metrics.recall_score(y_val, y_pred, average='macro'))\n",
        "print('Accuracy Score:', metrics.accuracy_score(y_val, y_pred))\n",
        "print('Confusion Matrix:', metrics.confusion_matrix(y_val, y_pred))\n",
        "print(classification_report(y_val, y_pred, zero_division = 1))\n",
        "print(\"------------------------------------------------------------------------\")"
      ],
      "metadata": {
        "colab": {
          "base_uri": "https://localhost:8080/"
        },
        "id": "y5W7RXzjG0ky",
        "outputId": "1965fe3b-4adf-4db1-d2a7-7ec5d389e9fc"
      },
      "execution_count": null,
      "outputs": [
        {
          "output_type": "stream",
          "name": "stdout",
          "text": [
            "F1 Score: 0.9726799758199793\n",
            "Accuracy Score: 0.9960558296142661\n",
            "Precision score:  0.950805365312211\n",
            "Recall score:  0.997001062057814\n",
            "Accuracy Score: 0.9960558296142661\n",
            "Confusion Matrix: [[1266607    5108]\n",
            " [     93   46847]]\n",
            "              precision    recall  f1-score   support\n",
            "\n",
            "       False       1.00      1.00      1.00   1271715\n",
            "        True       0.90      1.00      0.95     46940\n",
            "\n",
            "    accuracy                           1.00   1318655\n",
            "   macro avg       0.95      1.00      0.97   1318655\n",
            "weighted avg       1.00      1.00      1.00   1318655\n",
            "\n",
            "------------------------------------------------------------------------\n"
          ]
        }
      ]
    },
    {
      "cell_type": "markdown",
      "metadata": {
        "id": "pTxI-vopvuwZ"
      },
      "source": [
        "# Random Forest (1-9)"
      ]
    },
    {
      "cell_type": "code",
      "execution_count": null,
      "metadata": {
        "id": "nKcdJ-n8vt5S",
        "colab": {
          "base_uri": "https://localhost:8080/"
        },
        "outputId": "3a8249ca-8e37-4fd0-cfc4-6a84390c1798"
      },
      "outputs": [
        {
          "output_type": "stream",
          "name": "stdout",
          "text": [
            "Value of i 1\n",
            "F1 Score: 0.9892799818057991\n",
            "Accuracy Score: 0.9985242538799004\n",
            "Precision score:  0.9896507187945156\n",
            "Recall score:  0.9889098509898371\n",
            "Accuracy Score: 0.9985242538799004\n",
            "Confusion Matrix: [[1270620     936]\n",
            " [   1010   46089]]\n",
            "              precision    recall  f1-score   support\n",
            "\n",
            "       False       1.00      1.00      1.00   1271556\n",
            "        True       0.98      0.98      0.98     47099\n",
            "\n",
            "    accuracy                           1.00   1318655\n",
            "   macro avg       0.99      0.99      0.99   1318655\n",
            "weighted avg       1.00      1.00      1.00   1318655\n",
            "\n",
            "------------------------------------------------------------------------\n",
            "Value of i 3\n",
            "F1 Score: 0.9930924402156509\n",
            "Accuracy Score: 0.999052064414119\n",
            "Precision score:  0.9950241287628352\n",
            "Recall score:  0.9911769613628018\n",
            "Accuracy Score: 0.999052064414119\n",
            "Confusion Matrix: [[1271121     435]\n",
            " [    815   46284]]\n",
            "              precision    recall  f1-score   support\n",
            "\n",
            "       False       1.00      1.00      1.00   1271556\n",
            "        True       0.99      0.98      0.99     47099\n",
            "\n",
            "    accuracy                           1.00   1318655\n",
            "   macro avg       1.00      0.99      0.99   1318655\n",
            "weighted avg       1.00      1.00      1.00   1318655\n",
            "\n",
            "------------------------------------------------------------------------\n",
            "Value of i 5\n",
            "F1 Score: 0.9943341141802851\n",
            "Accuracy Score: 0.9992226928195775\n",
            "Precision score:  0.9964198017975363\n",
            "Recall score:  0.9922672619690436\n",
            "Accuracy Score: 0.9992226928195775\n",
            "Confusion Matrix: [[1271248     308]\n",
            " [    717   46382]]\n",
            "              precision    recall  f1-score   support\n",
            "\n",
            "       False       1.00      1.00      1.00   1271556\n",
            "        True       0.99      0.98      0.99     47099\n",
            "\n",
            "    accuracy                           1.00   1318655\n",
            "   macro avg       1.00      0.99      0.99   1318655\n",
            "weighted avg       1.00      1.00      1.00   1318655\n",
            "\n",
            "------------------------------------------------------------------------\n",
            "Value of i 7\n",
            "F1 Score: 0.9946592060323771\n",
            "Accuracy Score: 0.9992674353792311\n",
            "Precision score:  0.9968441433118306\n",
            "Recall score:  0.9924949162435768\n",
            "Accuracy Score: 0.9992674353792311\n",
            "Confusion Matrix: [[1271287     269]\n",
            " [    697   46402]]\n",
            "              precision    recall  f1-score   support\n",
            "\n",
            "       False       1.00      1.00      1.00   1271556\n",
            "        True       0.99      0.99      0.99     47099\n",
            "\n",
            "    accuracy                           1.00   1318655\n",
            "   macro avg       1.00      0.99      0.99   1318655\n",
            "weighted avg       1.00      1.00      1.00   1318655\n",
            "\n",
            "------------------------------------------------------------------------\n",
            "Value of i 9\n",
            "F1 Score: 0.9949568273322305\n",
            "Accuracy Score: 0.9993083861965412\n",
            "Precision score:  0.9972359380213971\n",
            "Recall score:  0.9927001589877715\n",
            "Accuracy Score: 0.9993083861965412\n",
            "Confusion Matrix: [[1271323     233]\n",
            " [    679   46420]]\n",
            "              precision    recall  f1-score   support\n",
            "\n",
            "       False       1.00      1.00      1.00   1271556\n",
            "        True       1.00      0.99      0.99     47099\n",
            "\n",
            "    accuracy                           1.00   1318655\n",
            "   macro avg       1.00      0.99      0.99   1318655\n",
            "weighted avg       1.00      1.00      1.00   1318655\n",
            "\n",
            "------------------------------------------------------------------------\n"
          ]
        }
      ],
      "source": [
        "from sklearn.ensemble import RandomForestClassifier\n",
        "import pickle\n",
        "from sklearn.metrics import classification_report\n",
        "for i in range(1,10,2):\n",
        "    print(\"Value of i\", i)\n",
        "    random_forst_model = RandomForestClassifier(n_estimators=i, random_state=1)\n",
        "    saved_model_RF = 'random_forest_model_20.sav'\n",
        "    # pickle.dump(random_forst_model, open(saved_model_RF, 'wb'))\n",
        "    random_forst_model.fit(x_train_sm, y_train_sm)\n",
        "    y_pred = random_forst_model.predict(df_val_final)\n",
        "    print('F1 Score:', metrics.f1_score(y_val, y_pred, average='macro'))\n",
        "    print('Accuracy Score:', metrics.accuracy_score(y_val, y_pred))\n",
        "    print('Precision score: ', metrics.precision_score(y_val, y_pred, average='macro'))\n",
        "    print('Recall score: ', metrics.recall_score(y_val, y_pred, average='macro'))\n",
        "    print('Accuracy Score:', metrics.accuracy_score(y_val, y_pred))\n",
        "    print('Confusion Matrix:', metrics.confusion_matrix(y_val, y_pred))\n",
        "    print(classification_report(y_val, y_pred, zero_division = 1))\n",
        "    print(\"------------------------------------------------------------------------\")"
      ]
    },
    {
      "cell_type": "markdown",
      "metadata": {
        "id": "sdnrwRETqMkh"
      },
      "source": [
        "# KNN"
      ]
    },
    {
      "cell_type": "code",
      "execution_count": null,
      "metadata": {
        "id": "uM-o6uQ7jjSa"
      },
      "outputs": [],
      "source": [
        "#This code is commented as it took too much of time to run\n",
        "\n",
        "# from sklearn.neighbors import KNeighborsClassifier\n",
        "# import pickle\n",
        "# from sklearn.metrics import classification_report\n",
        "\n",
        "# KNN_Classifier_1 = KNeighborsClassifier(n_neighbors=1)\n",
        "# KNN_Classifier_1.fit(x_train_sm, y_train_sm)\n",
        "# # saved_model_KNN = 'KNN_smote.sav'\n",
        "# # pickle.dump(KNN_Classifier_1, open(saved_model_KNN, 'wb'))\n",
        "# y_pred_KNN = KNN_Classifier_1.predict(df_val_final)\n",
        "# print('F1 Score:', metrics.f1_score(y_val, y_pred_KNN, average='macro'))\n",
        "# print('Accuracy Score:', metrics.accuracy_score(y_val, y_pred_KNN))\n",
        "# print('Precision score: ', metrics.precision_score(y_val, y_pred_KNN, average='macro'))\n",
        "# print('Recall score: ', metrics.recall_score(y_val, y_pred_KNN, average='macro'))\n",
        "# print('Accuracy Score:', metrics.accuracy_score(y_val, y_pred_KNN))\n",
        "# print('Confusion Matrix:', metrics.confusion_matrix(y_val, y_pred_KNN))\n",
        "# print(classification_report(y_val, y_pred_KNN, zero_division = 1))"
      ]
    },
    {
      "cell_type": "markdown",
      "metadata": {
        "id": "woN_BkIeqQxJ"
      },
      "source": [
        "# Logistic Regression"
      ]
    },
    {
      "cell_type": "code",
      "source": [
        "from sklearn.linear_model import LogisticRegression\n",
        "from sklearn.metrics import classification_report\n",
        "\n",
        "reg = LogisticRegression(random_state=0).fit(x_train_sm, y_train_sm)\n",
        "y_pred_KNN = reg.predict(df_val_final)\n",
        "print('F1 Score:', metrics.f1_score(y_val, y_pred_KNN, average='macro'))\n",
        "print('Accuracy Score:', metrics.accuracy_score(y_val, y_pred_KNN))\n",
        "print('Precision score: ', metrics.precision_score(y_val, y_pred_KNN, average='macro'))\n",
        "print('Recall score: ', metrics.recall_score(y_val, y_pred_KNN, average='macro'))\n",
        "print('Accuracy Score:', metrics.accuracy_score(y_val, y_pred_KNN))\n",
        "print('Confusion Matrix:', metrics.confusion_matrix(y_val, y_pred_KNN))\n",
        "print(classification_report(y_val, y_pred_KNN, zero_division = 1))"
      ],
      "metadata": {
        "id": "MuMrZh0Ws72G",
        "colab": {
          "base_uri": "https://localhost:8080/"
        },
        "outputId": "07b16c8a-44d7-4360-dfc6-1f00146dbab2"
      },
      "execution_count": null,
      "outputs": [
        {
          "output_type": "stream",
          "name": "stdout",
          "text": [
            "F1 Score: 0.7968016700911662\n",
            "Accuracy Score: 0.9787798931487007\n",
            "Precision score:  0.9435570886636494\n",
            "Recall score:  0.7257940802275427\n",
            "Accuracy Score: 0.9787798931487007\n",
            "Confusion Matrix: [[1269288    2192]\n",
            " [  25790   21385]]\n",
            "              precision    recall  f1-score   support\n",
            "\n",
            "       False       0.98      1.00      0.99   1271480\n",
            "        True       0.91      0.45      0.60     47175\n",
            "\n",
            "    accuracy                           0.98   1318655\n",
            "   macro avg       0.94      0.73      0.80   1318655\n",
            "weighted avg       0.98      0.98      0.98   1318655\n",
            "\n"
          ]
        }
      ]
    },
    {
      "cell_type": "markdown",
      "metadata": {
        "id": "PFGah7b6qdm_"
      },
      "source": [
        "# SVM"
      ]
    },
    {
      "cell_type": "code",
      "execution_count": null,
      "metadata": {
        "id": "HLV3ehxwvOFB",
        "colab": {
          "base_uri": "https://localhost:8080/"
        },
        "outputId": "c5524599-1c68-445a-9e1b-d49887544b22"
      },
      "outputs": [
        {
          "output_type": "stream",
          "name": "stdout",
          "text": [
            "F1 Score: 0.5593981627162983\n",
            "Accuracy Score: 0.9664756892439645\n",
            "Precision score:  0.8918449442776004\n",
            "Recall score:  0.5367485354644445\n",
            "Accuracy Score: 0.9664756892439645\n",
            "Confusion Matrix: [[1270972     780]\n",
            " [  43427    3476]]\n",
            "              precision    recall  f1-score   support\n",
            "\n",
            "       False       0.97      1.00      0.98   1271752\n",
            "        True       0.82      0.07      0.14     46903\n",
            "\n",
            "    accuracy                           0.97   1318655\n",
            "   macro avg       0.89      0.54      0.56   1318655\n",
            "weighted avg       0.96      0.97      0.95   1318655\n",
            "\n"
          ]
        }
      ],
      "source": [
        "from sklearn import svm\n",
        "clf = svm.SVC(C=10, kernel='rbf', gamma = 1, class_weight='balanced',max_iter=1000)\n",
        "clf.fit(x_train_sm, y_train_sm)\n",
        "y_pred_KNN = clf.predict(df_val_final)\n",
        "print('F1 Score:', metrics.f1_score(y_val, y_pred_KNN, average='macro'))\n",
        "print('Accuracy Score:', metrics.accuracy_score(y_val, y_pred_KNN))\n",
        "print('Precision score: ', metrics.precision_score(y_val, y_pred_KNN, average='macro'))\n",
        "print('Recall score: ', metrics.recall_score(y_val, y_pred_KNN, average='macro'))\n",
        "print('Accuracy Score:', metrics.accuracy_score(y_val, y_pred_KNN))\n",
        "print('Confusion Matrix:', metrics.confusion_matrix(y_val, y_pred_KNN))\n",
        "print(classification_report(y_val, y_pred_KNN, zero_division = 1))"
      ]
    },
    {
      "cell_type": "markdown",
      "metadata": {
        "id": "H-y9aXbKqlH4"
      },
      "source": [
        "# XGBoost"
      ]
    },
    {
      "cell_type": "code",
      "execution_count": null,
      "metadata": {
        "id": "lj3tEo4IjjSa",
        "colab": {
          "base_uri": "https://localhost:8080/"
        },
        "outputId": "85f02c3a-6a46-4623-b9ff-53ea39b5ee53"
      },
      "outputs": [
        {
          "output_type": "stream",
          "name": "stdout",
          "text": [
            "F1 Score: 0.6537817271274008\n",
            "Accuracy Score: 0.9228661022026231\n",
            "Precision score:  0.6165591188691671\n",
            "Recall score:  0.7566951059807931\n",
            "Accuracy Score: 0.9228661022026231\n",
            "Confusion Matrix: [[1189731   81825]\n",
            " [  19888   27211]]\n",
            "              precision    recall  f1-score   support\n",
            "\n",
            "       False       0.98      0.94      0.96   1271556\n",
            "        True       0.25      0.58      0.35     47099\n",
            "\n",
            "    accuracy                           0.92   1318655\n",
            "   macro avg       0.62      0.76      0.65   1318655\n",
            "weighted avg       0.96      0.92      0.94   1318655\n",
            "\n"
          ]
        }
      ],
      "source": [
        "from xgboost import XGBClassifier\n",
        "# XGBClassifier(learning_rate=1, n_estimators=1300,eta = 0.7, max_depth= 3,  objective= 'multi:softprob',  num_class= 3)\n",
        "XGB_model = XGBClassifier(learning_rate=1, n_estimators=100)\n",
        "XGB_model.fit(x_train_sm, y_train_sm)\n",
        "# pickle.dump(XGB_model, open(saved_model_XGB, 'wb'))\n",
        "y_pred_XGB = XGB_model.predict(df_val_final)\n",
        "print('F1 Score:', metrics.f1_score(y_val, y_pred_XGB, average='macro'))\n",
        "print('Accuracy Score:', metrics.accuracy_score(y_val, y_pred_XGB))\n",
        "print('Precision score: ', metrics.precision_score(y_val, y_pred_XGB, average='macro'))\n",
        "print('Recall score: ', metrics.recall_score(y_val, y_pred_XGB, average='macro'))\n",
        "print('Accuracy Score:', metrics.accuracy_score(y_val, y_pred_XGB))\n",
        "print('Confusion Matrix:', metrics.confusion_matrix(y_val, y_pred_XGB))\n",
        "print(classification_report(y_val, y_pred_XGB, zero_division = 1))"
      ]
    },
    {
      "cell_type": "markdown",
      "source": [
        "# Isolation Forest"
      ],
      "metadata": {
        "id": "_UUetB76tJS5"
      }
    },
    {
      "cell_type": "code",
      "execution_count": null,
      "metadata": {
        "id": "xOex7zNcqj4C",
        "colab": {
          "base_uri": "https://localhost:8080/"
        },
        "outputId": "b459e2d8-92f4-4b75-bd44-3bd1f8de2b8e"
      },
      "outputs": [
        {
          "output_type": "stream",
          "name": "stdout",
          "text": [
            "F1 Score: 0.01982873968452153\n",
            "Accuracy Score: 0.029916088741937807\n",
            "Precision score:  0.010279055418150588\n",
            "Recall score:  0.27944718349767655\n",
            "Accuracy Score: 0.029916088741937807\n",
            "Confusion Matrix: [[      0       0       0]\n",
            " [  31780       0 1239819]\n",
            " [   7607       0   39449]]\n",
            "              precision    recall  f1-score   support\n",
            "\n",
            "          -1       0.00      1.00      0.00         0\n",
            "           0       1.00      0.00      0.00   1271599\n",
            "           1       0.03      0.84      0.06     47056\n",
            "\n",
            "    accuracy                           0.03   1318655\n",
            "   macro avg       0.34      0.61      0.02   1318655\n",
            "weighted avg       0.97      0.03      0.00   1318655\n",
            "\n"
          ]
        }
      ],
      "source": [
        "from sklearn.ensemble import IsolationForest\n",
        "df_val_final = df_val_processed.drop(['Station','measure','target'],axis = 1)\n",
        "\n",
        "# XGBClassifier(learning_rate=1, n_estimators=1300,eta = 0.7, max_depth= 3,  objective= 'multi:softprob',  num_class= 3)\n",
        "df_train_final, df_val_final = df_train_final.align(df_val_final, join='inner', axis=1)  # inner join\n",
        "\n",
        "isolation_model=IsolationForest(n_estimators=100,max_samples='auto',contamination=0.03, random_state=42)\n",
        "\n",
        "isolation_model.fit(df_train_final, y_train)\n",
        "# pickle.dump(XGB_model, open(saved_model_XGB, 'wb'))\n",
        "y_pred_XGB = isolation_model.predict(df_val_final)\n",
        "print('F1 Score:', metrics.f1_score(y_val, y_pred_XGB, average='macro'))\n",
        "print('Accuracy Score:', metrics.accuracy_score(y_val, y_pred_XGB))\n",
        "print('Precision score: ', metrics.precision_score(y_val, y_pred_XGB, average='macro'))\n",
        "print('Recall score: ', metrics.recall_score(y_val, y_pred_XGB, average='macro'))\n",
        "print('Accuracy Score:', metrics.accuracy_score(y_val, y_pred_XGB))\n",
        "print('Confusion Matrix:', metrics.confusion_matrix(y_val, y_pred_XGB))\n",
        "print(classification_report(y_val, y_pred_XGB, zero_division = 1))"
      ]
    },
    {
      "cell_type": "markdown",
      "metadata": {
        "id": "F1dekY9iuUiZ"
      },
      "source": [
        "# AdaBoost"
      ]
    },
    {
      "cell_type": "code",
      "execution_count": null,
      "metadata": {
        "id": "yXROAEQnuTwr",
        "colab": {
          "base_uri": "https://localhost:8080/"
        },
        "outputId": "43dc4724-dcda-4cf2-c177-580a1289edba"
      },
      "outputs": [
        {
          "output_type": "stream",
          "name": "stdout",
          "text": [
            "F1 Score: 0.8520582136000665\n",
            "Accuracy Score: 0.9817101516317763\n",
            "Precision score:  0.8977469866292793\n",
            "Recall score:  0.8164118370594116\n",
            "Accuracy Score: 0.9817101516317763\n",
            "Confusion Matrix: [[1264496    7103]\n",
            " [  17015   30041]]\n",
            "              precision    recall  f1-score   support\n",
            "\n",
            "       False       0.99      0.99      0.99   1271599\n",
            "        True       0.81      0.64      0.71     47056\n",
            "\n",
            "    accuracy                           0.98   1318655\n",
            "   macro avg       0.90      0.82      0.85   1318655\n",
            "weighted avg       0.98      0.98      0.98   1318655\n",
            "\n"
          ]
        }
      ],
      "source": [
        "# AdaBoost Classifier\n",
        "from sklearn.ensemble import AdaBoostClassifier\n",
        "ada_model = AdaBoostClassifier(n_estimators=100, random_state=1)\n",
        "ada_model.fit(x_train_sm, y_train_sm)\n",
        "# saved_model_XGB = 'XGB_smote.sav'\n",
        "# pickle.dump(XGB_model, open(saved_model_XGB, 'wb'))\n",
        "y_pred_XGB = ada_model.predict(df_val_final)\n",
        "print('F1 Score:', metrics.f1_score(y_val, y_pred_XGB, average='macro'))\n",
        "print('Accuracy Score:', metrics.accuracy_score(y_val, y_pred_XGB))\n",
        "print('Precision score: ', metrics.precision_score(y_val, y_pred_XGB, average='macro'))\n",
        "print('Recall score: ', metrics.recall_score(y_val, y_pred_XGB, average='macro'))\n",
        "print('Accuracy Score:', metrics.accuracy_score(y_val, y_pred_XGB))\n",
        "print('Confusion Matrix:', metrics.confusion_matrix(y_val, y_pred_XGB))\n",
        "print(classification_report(y_val, y_pred_XGB, zero_division = 1))"
      ]
    },
    {
      "cell_type": "markdown",
      "metadata": {
        "id": "Mi5utnpYI2AC"
      },
      "source": [
        "# Predicting labels on test.csv"
      ]
    },
    {
      "cell_type": "markdown",
      "metadata": {
        "id": "HoU7L8ZcjjSa"
      },
      "source": [
        "The attribute I will predict is: target"
      ]
    },
    {
      "cell_type": "code",
      "execution_count": null,
      "metadata": {
        "id": "dxns6cHAJAVi"
      },
      "outputs": [],
      "source": [
        "X_train = df_train[['value', 'R_flag', 'I_flag', 'Z_flag', 'B_flag','measure','Station','Month','Min','Day','Hour','target']]\n",
        "Y_train = df_train[\"target\"]\n",
        "\n",
        "X_test = df_test[['value', 'R_flag', 'I_flag', 'Z_flag', 'B_flag','measure','Station','Month','Min','Day','Hour']]\n"
      ]
    },
    {
      "cell_type": "code",
      "execution_count": null,
      "metadata": {
        "id": "jI3cjcPqLuH9"
      },
      "outputs": [],
      "source": [
        "#Applying One Hot Encoding on Test Dataset\n",
        "one_hot_station = pd.get_dummies(X_train['Station'])\n",
        "one_hot_measure = pd.get_dummies(X_train['measure'])\n",
        "\n",
        "X_train_processed = X_train.join(one_hot_station)\n",
        "X_train_processed = X_train_processed.join(one_hot_measure)\n",
        "\n",
        "one_hot_station = pd.get_dummies(X_test['Station'])\n",
        "one_hot_measure = pd.get_dummies(X_test['measure'])\n",
        "\n",
        "X_test_processed = X_test.join(one_hot_station)\n",
        "X_test_processed = X_test_processed.join(one_hot_measure)"
      ]
    },
    {
      "cell_type": "code",
      "execution_count": null,
      "metadata": {
        "id": "gaSbV9AbMP1a"
      },
      "outputs": [],
      "source": [
        "#Dropping unused and predicted attributes\n",
        "X_train_final = X_train_processed.drop(['Station','measure','target'],axis = 1)\n",
        "X_test_final = X_test_processed.drop(['Station','measure'],axis = 1)"
      ]
    },
    {
      "cell_type": "code",
      "execution_count": null,
      "metadata": {
        "colab": {
          "base_uri": "https://localhost:8080/"
        },
        "id": "L8qOTRyHC4nE",
        "outputId": "2b41820b-5ed3-4726-9635-0298db6b92b6"
      },
      "outputs": [
        {
          "output_type": "stream",
          "name": "stdout",
          "text": [
            "Counter({False: 6358102, True: 235172})\n",
            "6593274 6593274\n",
            "Counter({False: 6358102, True: 235172})\n"
          ]
        }
      ],
      "source": [
        "#Same sampling technique is applied which was used during training the model.\n",
        "\n",
        "from imblearn.over_sampling import SMOTE \n",
        "from collections import Counter\n",
        "from imblearn.under_sampling import RandomUnderSampler \n",
        "# from imblearn.under_sampling import     OneSidedSelection\n",
        "\n",
        "print(Counter(Y_train))\n",
        "\n",
        "\n",
        "# x_train_sm = df_train_final\n",
        "# y_train_sm = y_train\n",
        "\n",
        "\n",
        "\n",
        "# rus = RandomUnderSampler(random_state=42, sampling_strategy = 0.1)\n",
        "# X_train_final, Y_train = rus.fit_resample(X_train_final, Y_train)\n",
        "# print(Counter(Y_train))\n",
        "\n",
        "# oss = OneSidedSelection(random_state=42, n_jobs=4)\n",
        "# ncl = NeighbourhoodCleaningRule(n_neighbors=1)\n",
        "\n",
        "# X_train_final, Y_train = oss.fit_resample(X_train_final, Y_train)\n",
        "# X_train_temp, Y_train_temp = ncl.fit_resample(X_train_final, Y_train)\n",
        "\n",
        "print(len(X_train_final), len(Y_train))\n",
        "\n",
        "print(Counter(Y_train))"
      ]
    },
    {
      "cell_type": "code",
      "execution_count": null,
      "metadata": {
        "id": "aUefngJcMlMP"
      },
      "outputs": [],
      "source": [
        "X_train_final, X_test_final = X_train_final.align(X_test_final, join='inner', axis=1)  # inner join"
      ]
    },
    {
      "cell_type": "code",
      "execution_count": null,
      "metadata": {
        "id": "_Rop5TQkMwfL"
      },
      "outputs": [],
      "source": [
        "from sklearn.ensemble import RandomForestClassifier\n",
        "import pickle\n",
        "from sklearn.metrics import classification_report\n",
        "\n",
        "random_forst_model = RandomForestClassifier(n_estimators=100, random_state=1)\n",
        "saved_model_RF = 'random_forest_model_20.sav'\n",
        "# pickle.dump(random_forst_model, open(saved_model_RF, 'wb'))\n",
        "random_forst_model.fit(X_train_final, Y_train)\n",
        "y_pred_random = random_forst_model.predict_proba(X_test_final)\n",
        "# print('F1 Score:', metrics.f1_score(y_val, y_pred, average='macro'))\n",
        "# print('Accuracy Score:', metrics.accuracy_score(y_val, y_pred))\n",
        "# print('Precision score: ', metrics.precision_score(y_val, y_pred, average='macro'))\n",
        "# print('Recall score: ', metrics.recall_score(y_val, y_pred, average='macro'))\n",
        "# print('Accuracy Score:', metrics.accuracy_score(y_val, y_pred))\n",
        "# print('Confusion Matrix:', metrics.confusion_matrix(y_val, y_pred))\n",
        "# print(classification_report(y_val, y_pred, zero_division = 1))"
      ]
    },
    {
      "cell_type": "code",
      "execution_count": null,
      "metadata": {
        "colab": {
          "base_uri": "https://localhost:8080/"
        },
        "id": "r_nWFFoKTv5Y",
        "outputId": "89f145d4-268a-4a8b-e75c-13025cbc4c44"
      },
      "outputs": [
        {
          "output_type": "stream",
          "name": "stdout",
          "text": [
            "62844\n",
            "1793262\n"
          ]
        }
      ],
      "source": [
        "df_test_target_True = 0\n",
        "df_test_target_False = 0\n",
        "\n",
        "y_pred_final =np.round(y_pred_random[:,1], 0)\n",
        "# y_pred_balanced1 =np.round(y_pred_balanced, 0)\n",
        "\n",
        "# y_pred_final = (y_pred_random1 + y_pred_balanced1)/2\n",
        "for x in y_pred_final:\n",
        "  if int(x) == 1:\n",
        "    df_test_target_True = df_test_target_True + 1\n",
        "  else:\n",
        "    df_test_target_False = df_test_target_False + 1\n",
        "\n",
        "print((df_test_target_True))\n",
        "print((df_test_target_False))"
      ]
    },
    {
      "cell_type": "code",
      "source": [
        "y_pred_final"
      ],
      "metadata": {
        "colab": {
          "base_uri": "https://localhost:8080/"
        },
        "id": "7fHZOv-6qava",
        "outputId": "35f8071a-c673-422d-8b07-e51364bd55e6"
      },
      "execution_count": null,
      "outputs": [
        {
          "output_type": "execute_result",
          "data": {
            "text/plain": [
              "array([0., 0., 0., ..., 0., 0., 0.])"
            ]
          },
          "metadata": {},
          "execution_count": 23
        }
      ]
    },
    {
      "cell_type": "code",
      "execution_count": null,
      "metadata": {
        "colab": {
          "base_uri": "https://localhost:8080/"
        },
        "id": "Ja6awxT0D6b2",
        "outputId": "fc9523e8-08bf-4609-ab3d-0eec2266899f"
      },
      "outputs": [
        {
          "output_type": "execute_result",
          "data": {
            "text/plain": [
              "1856106"
            ]
          },
          "metadata": {},
          "execution_count": 25
        }
      ],
      "source": [
        "62844/(62844+1793262)\n",
        "62844+1793262"
      ]
    },
    {
      "cell_type": "code",
      "execution_count": null,
      "metadata": {
        "id": "p6hIoILREWX5"
      },
      "outputs": [],
      "source": [
        "pd.DataFrame(y_pred_random[:,1], columns=['target']).to_csv('/content/drive/MyDrive/project_ALDA/ECONet/predictions.csv', index=False)"
      ]
    }
  ],
  "metadata": {
    "colab": {
      "collapsed_sections": [],
      "name": "Project_Template_Part1 - WithoutNormalization.ipynb",
      "provenance": [],
      "toc_visible": true
    },
    "kernelspec": {
      "display_name": "Python 3 (ipykernel)",
      "language": "python",
      "name": "python3"
    },
    "language_info": {
      "codemirror_mode": {
        "name": "ipython",
        "version": 3
      },
      "file_extension": ".py",
      "mimetype": "text/x-python",
      "name": "python",
      "nbconvert_exporter": "python",
      "pygments_lexer": "ipython3",
      "version": "3.9.9"
    }
  },
  "nbformat": 4,
  "nbformat_minor": 0
}